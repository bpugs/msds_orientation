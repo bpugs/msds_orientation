{
 "cells": [
  {
   "cell_type": "code",
   "execution_count": 2,
   "metadata": {},
   "outputs": [],
   "source": [
    "#import necessary packages\n",
    "import pandas as pd\n",
    "import numpy as np\n",
    "import matplotlib as mp"
   ]
  },
  {
   "cell_type": "code",
   "execution_count": 9,
   "metadata": {},
   "outputs": [],
   "source": [
    "#Pull directly from repo\n",
    "computer_survey_2023 = pd.read_csv(\"https://raw.githubusercontent.com/UVADS/orientation-technical/main/content/dat/2023-06-13-survey.csv\")\n"
   ]
  },
  {
   "cell_type": "code",
   "execution_count": 10,
   "metadata": {},
   "outputs": [
    {
     "data": {
      "text/html": [
       "<div>\n",
       "<style scoped>\n",
       "    .dataframe tbody tr th:only-of-type {\n",
       "        vertical-align: middle;\n",
       "    }\n",
       "\n",
       "    .dataframe tbody tr th {\n",
       "        vertical-align: top;\n",
       "    }\n",
       "\n",
       "    .dataframe thead th {\n",
       "        text-align: right;\n",
       "    }\n",
       "</style>\n",
       "<table border=\"1\" class=\"dataframe\">\n",
       "  <thead>\n",
       "    <tr style=\"text-align: right;\">\n",
       "      <th></th>\n",
       "      <th>Timestamp</th>\n",
       "      <th>Operating System</th>\n",
       "      <th>CPU Cycle Rate (in GHz)</th>\n",
       "      <th>CPU Number of Cores (int)</th>\n",
       "      <th>RAM (in GB)</th>\n",
       "      <th>Hard Drive Size (in GB)</th>\n",
       "      <th>GPU (short description as a string)</th>\n",
       "      <th>GPU CUDA Number of Cores (int)</th>\n",
       "    </tr>\n",
       "  </thead>\n",
       "  <tbody>\n",
       "    <tr>\n",
       "      <th>0</th>\n",
       "      <td>6/13/2023 13:21:08</td>\n",
       "      <td>Windows</td>\n",
       "      <td>3.0</td>\n",
       "      <td>8</td>\n",
       "      <td>16</td>\n",
       "      <td>935</td>\n",
       "      <td>NVIDIA GeForce RTX 2060 with Max-Q Design</td>\n",
       "      <td>5888</td>\n",
       "    </tr>\n",
       "    <tr>\n",
       "      <th>1</th>\n",
       "      <td>6/13/2023 13:23:33</td>\n",
       "      <td>I use Mac and Linux</td>\n",
       "      <td>2133.0</td>\n",
       "      <td>2</td>\n",
       "      <td>8</td>\n",
       "      <td>250</td>\n",
       "      <td>Intel Iris Plus Graphics</td>\n",
       "      <td>1</td>\n",
       "    </tr>\n",
       "    <tr>\n",
       "      <th>2</th>\n",
       "      <td>6/13/2023 13:24:29</td>\n",
       "      <td>MacOS</td>\n",
       "      <td>3.2</td>\n",
       "      <td>8</td>\n",
       "      <td>8</td>\n",
       "      <td>256</td>\n",
       "      <td>M1</td>\n",
       "      <td>8</td>\n",
       "    </tr>\n",
       "    <tr>\n",
       "      <th>3</th>\n",
       "      <td>6/13/2023 13:25:04</td>\n",
       "      <td>MacOS</td>\n",
       "      <td>3.6</td>\n",
       "      <td>12</td>\n",
       "      <td>32</td>\n",
       "      <td>1000</td>\n",
       "      <td>M2 Max</td>\n",
       "      <td>38</td>\n",
       "    </tr>\n",
       "    <tr>\n",
       "      <th>4</th>\n",
       "      <td>6/13/2023 13:25:31</td>\n",
       "      <td>Windows</td>\n",
       "      <td>2.3</td>\n",
       "      <td>8</td>\n",
       "      <td>16</td>\n",
       "      <td>500</td>\n",
       "      <td>NVIDIA GeForce RTX 3050 Ti Laptop GPU</td>\n",
       "      <td>2560</td>\n",
       "    </tr>\n",
       "  </tbody>\n",
       "</table>\n",
       "</div>"
      ],
      "text/plain": [
       "            Timestamp     Operating System  CPU Cycle Rate (in GHz)  \\\n",
       "0  6/13/2023 13:21:08              Windows                      3.0   \n",
       "1  6/13/2023 13:23:33  I use Mac and Linux                   2133.0   \n",
       "2  6/13/2023 13:24:29                MacOS                      3.2   \n",
       "3  6/13/2023 13:25:04                MacOS                      3.6   \n",
       "4  6/13/2023 13:25:31              Windows                      2.3   \n",
       "\n",
       "   CPU Number of Cores (int)  RAM (in GB)  Hard Drive Size (in GB)  \\\n",
       "0                          8           16                      935   \n",
       "1                          2            8                      250   \n",
       "2                          8            8                      256   \n",
       "3                         12           32                     1000   \n",
       "4                          8           16                      500   \n",
       "\n",
       "         GPU (short description as a string)  GPU CUDA Number of Cores (int)  \n",
       "0  NVIDIA GeForce RTX 2060 with Max-Q Design                            5888  \n",
       "1                   Intel Iris Plus Graphics                               1  \n",
       "2                                         M1                               8  \n",
       "3                                     M2 Max                              38  \n",
       "4      NVIDIA GeForce RTX 3050 Ti Laptop GPU                            2560  "
      ]
     },
     "execution_count": 10,
     "metadata": {},
     "output_type": "execute_result"
    }
   ],
   "source": [
    "computer_survey_2023.head()"
   ]
  },
  {
   "cell_type": "code",
   "execution_count": 5,
   "metadata": {},
   "outputs": [
    {
     "data": {
      "text/plain": [
       "Index(['Timestamp', 'Operating System', 'CPU Cycle Rate (in GHz)',\n",
       "       'CPU Number of Cores (int)', 'RAM (in GB)', 'Hard Drive Size (in GB)',\n",
       "       'GPU (short description as a string)',\n",
       "       'GPU CUDA Number of Cores (int)'],\n",
       "      dtype='object')"
      ]
     },
     "execution_count": 5,
     "metadata": {},
     "output_type": "execute_result"
    }
   ],
   "source": [
    "#retrieve desired column to graph\n",
    "computer_survey_2023.columns"
   ]
  },
  {
   "cell_type": "code",
   "execution_count": 23,
   "metadata": {},
   "outputs": [
    {
     "data": {
      "text/plain": [
       "array([[<Axes: title={'center': 'CPU Cycle Rate (in GHz)'}>,\n",
       "        <Axes: title={'center': 'CPU Number of Cores (int)'}>],\n",
       "       [<Axes: title={'center': 'RAM (in GB)'}>,\n",
       "        <Axes: title={'center': 'Hard Drive Size (in GB)'}>],\n",
       "       [<Axes: title={'center': 'GPU CUDA Number of Cores (int)'}>,\n",
       "        <Axes: >]], dtype=object)"
      ]
     },
     "execution_count": 23,
     "metadata": {},
     "output_type": "execute_result"
    },
    {
     "data": {
      "image/png": "[encoded data removed]",
      "text/plain": [
       "<Figure size 800x800 with 6 Axes>"
      ]
     },
     "metadata": {},
     "output_type": "display_data"
    }
   ],
   "source": [
    "#make histograms\n",
    "\n",
    "computer_survey_2023.hist(figsize=(8, 8))"
   ]
  },
  {
   "cell_type": "code",
   "execution_count": 35,
   "metadata": {},
   "outputs": [
    {
     "data": {
      "text/plain": [
       "Intel(R) UHD Graphics 620                                                                        4\n",
       "Intel(R) Iris(R) Xe Graphics                                                                     3\n",
       "Intel UHD Graphics 630                                                                           2\n",
       "Intel Iris Plus Graphics 655                                                                     2\n",
       "Intel Iris Plus Graphics                                                                         2\n",
       "Intel Iris Plus Graphics 655 1536 MB                                                             2\n",
       "Integrated Graphics                                                                              2\n",
       "Apple M2 GPU                                                                                     2\n",
       "Intel Iris Plus Graphics 640                                                                     2\n",
       "Intel Iris Plus Graphics 645                                                                     2\n",
       "Intel(R) HD Graphics 520                                                                         1\n",
       "M2 integrates an Apple designed ten-core (eight in some base models) graphics processing unit    1\n",
       "Intel(R) HD Graphics 620                                                                         1\n",
       "0                                                                                                1\n",
       "M2 with 10-core GPU                                                                              1\n",
       "AMD Radeon (TM) Graphics                                                                         1\n",
       "Intel UHD 630                                                                                    1\n",
       "Intel HD Graphics 4000 1024 MB                                                                   1\n",
       "Built-in GPU                                                                                     1\n",
       "Apple M1 Max 32-Core GPU                                                                         1\n",
       "Apple M2 (10 Core)                                                                               1\n",
       "Intel (R) HD Graphics 520                                                                        1\n",
       "Intel(r) UHD Graphics 620                                                                        1\n",
       "Macbook_and_an_intel_chip_therefore_no_GPU_and_no_CUDA                                           1\n",
       "Apple M1 Pro                                                                                     1\n",
       "Intel Iris Graphics 6100                                                                         1\n",
       "none                                                                                             1\n",
       "NVIDIA GeForce RTX 2060 with Max-Q Design                                                        1\n",
       "Apple M2 Pro (Built-In)                                                                          1\n",
       "Integrated GPU                                                                                   1\n",
       "M1                                                                                               1\n",
       "M2 Max                                                                                           1\n",
       "NVIDIA GeForce RTX 3050 Ti Laptop GPU                                                            1\n",
       "NVIDA GeForce RTX 3050 Ti Laptop GPU                                                             1\n",
       "Intel® Iris® Xe Graphics                                                                         1\n",
       "M2 Chip                                                                                          1\n",
       "NVIDIA GeForce GTX 1650 with Max-Q Design                                                        1\n",
       "Intel UHD Graphics 617 1536 MB                                                                   1\n",
       "Intel HD Graphics 4000                                                                           1\n",
       "Intel HD Graphics 520                                                                            1\n",
       "Apple-designed integrated graphics                                                               1\n",
       "Intel UHD Graphics 617                                                                           1\n",
       "Apple integrated graphics                                                                        1\n",
       "Intel Iris Plus Graphics 645 1536 MB                                                             1\n",
       "Intel Iris Plus Graphics 1536 MB                                                                 1\n",
       "Integrated graphic CPU (Intel(R) Xe Graphics                                                     1\n",
       "Intel(R) Iris(R) Plus Graphics                                                                   1\n",
       "Zero point two out of three point nine                                                           1\n",
       "Name: GPU (short description as a string), dtype: int64"
      ]
     },
     "execution_count": 35,
     "metadata": {},
     "output_type": "execute_result"
    }
   ],
   "source": [
    "computer_survey_2023['GPU (short description as a string)'].value_counts()"
   ]
  },
  {
   "cell_type": "code",
   "execution_count": 36,
   "metadata": {},
   "outputs": [
    {
     "data": {
      "text/plain": [
       "MacOS                  36\n",
       "Windows                25\n",
       "I use Mac and Linux     1\n",
       "Name: Operating System, dtype: int64"
      ]
     },
     "execution_count": 36,
     "metadata": {},
     "output_type": "execute_result"
    }
   ],
   "source": [
    "computer_survey_2023['Operating System'].value_counts()"
   ]
  },
  {
   "attachments": {},
   "cell_type": "markdown",
   "metadata": {},
   "source": [
    "## qualatative variable descriptions\n",
    "\n",
    "#### for gpu, many people had the intel or other apple related products\n",
    "#### for operating system, majority of people had mac and barely anyone used linux"
   ]
  },
  {
   "cell_type": "code",
   "execution_count": null,
   "metadata": {},
   "outputs": [],
   "source": [
    "#save as csv for future use in repo\n",
    "computer_survey_2023.to_csv('/Users/bpugs/msds_orientation/orientation_work/computer_survey_2023.csv', sep = ',')"
   ]
  }
 ],
 "metadata": {
  "kernelspec": {
   "display_name": "Python 3",
   "language": "python",
   "name": "python3"
  },
  "language_info": {
   "codemirror_mode": {
    "name": "ipython",
    "version": 3
   },
   "file_extension": ".py",
   "mimetype": "text/x-python",
   "name": "python",
   "nbconvert_exporter": "python",
   "pygments_lexer": "ipython3",
   "version": "3.11.0"
  },
  "orig_nbformat": 4
 },
 "nbformat": 4,
 "nbformat_minor": 2
}
