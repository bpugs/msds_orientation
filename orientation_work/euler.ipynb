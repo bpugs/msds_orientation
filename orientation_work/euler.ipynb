{
 "cells": [
  {
   "cell_type": "code",
   "execution_count": 1,
   "metadata": {},
   "outputs": [
    {
     "name": "stdout",
     "output_type": "stream",
     "text": [
      "233168\n"
     ]
    }
   ],
   "source": [
    "#question 1\n",
    "sum = 0\n",
    "for x in range(1,1000):\n",
    "    if (x % 3) == 0 or (x % 5) == 0:\n",
    "        sum += x\n",
    "\n",
    "print(sum)"
   ]
  },
  {
   "cell_type": "code",
   "execution_count": 2,
   "metadata": {},
   "outputs": [
    {
     "name": "stdout",
     "output_type": "stream",
     "text": [
      "4613732\n"
     ]
    }
   ],
   "source": [
    "#2\n",
    "a, b = 1, 1\n",
    "total = 0\n",
    "while a <= 4000000:\n",
    "    if a % 2 == 0:\n",
    "        total += a\n",
    "    a, b = b, a+b \n",
    "print(total)"
   ]
  },
  {
   "cell_type": "code",
   "execution_count": 4,
   "metadata": {},
   "outputs": [
    {
     "name": "stdout",
     "output_type": "stream",
     "text": [
      "6857.0\n"
     ]
    }
   ],
   "source": [
    "#3\n",
    "\n",
    "n = 600851475143\n",
    "i = 2\n",
    "while i < n:\n",
    "    if n % i == 0: #is num divisible by i, factor or not?\n",
    "        n = n / i\n",
    "    else:\n",
    "        i = i + 1\n",
    "print(n)"
   ]
  }
 ],
 "metadata": {
  "kernelspec": {
   "display_name": "msds",
   "language": "python",
   "name": "python3"
  },
  "language_info": {
   "codemirror_mode": {
    "name": "ipython",
    "version": 3
   },
   "file_extension": ".py",
   "mimetype": "text/x-python",
   "name": "python",
   "nbconvert_exporter": "python",
   "pygments_lexer": "ipython3",
   "version": "3.11.0"
  },
  "orig_nbformat": 4
 },
 "nbformat": 4,
 "nbformat_minor": 2
}
